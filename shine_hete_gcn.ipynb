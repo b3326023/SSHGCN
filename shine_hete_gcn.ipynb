{
 "cells": [
  {
   "cell_type": "markdown",
   "metadata": {},
   "source": [
    "# 改進 SHINE 模型，將 Autoencoder 替換成 lightCGN，並在異質圖上進行資訊傳播"
   ]
  },
  {
   "cell_type": "code",
   "execution_count": 1,
   "metadata": {},
   "outputs": [],
   "source": [
    "import os\n",
    "import timeit\n",
    "import numpy as np\n",
    "from prepare_data_new import Data\n",
    "import tensorflow as tf\n",
    "from tensorflow.keras import Input\n",
    "from tensorflow.keras.models import Model\n",
    "from tensorflow.keras.initializers import Constant\n",
    "from tensorflow.keras.regularizers import l2\n",
    "from tensorflow.keras.layers import Dense, Embedding, concatenate, Dot, Add\n",
    "from tensorflow.keras.optimizers import Adam\n",
    "from tensorflow.keras import backend as bk\n",
    "import pandas as pd\n",
    "from sklearn.metrics import accuracy_score, f1_score, precision_score, recall_score, roc_auc_score, roc_curve\n",
    "import matplotlib.pyplot as plt\n"
   ]
  },
  {
   "cell_type": "code",
   "execution_count": 2,
   "metadata": {},
   "outputs": [],
   "source": [
    "os.environ['TF_CPP_MIN_LOG_LEVEL'] = '2'\n",
    "# os.environ[\"path\"] += os.pathsep + 'c:/program files (x86)/graphviz2.38/bin'\n",
    "# saveDir = \"C:/Users/user/Google 雲端硬碟/NCKU_NETAI/SHINE/DGE/model\""
   ]
  },
  {
   "cell_type": "markdown",
   "metadata": {},
   "source": [
    "# 一、讀取資料，包含:\n",
    "1. Sentiment Graph\n",
    "2. Social Relation Graph\n",
    "3. Profile Bipartite Graph"
   ]
  },
  {
   "cell_type": "code",
   "execution_count": 3,
   "metadata": {},
   "outputs": [
    {
     "name": "stdout",
     "output_type": "stream",
     "text": [
      "num of user: 12814\n",
      "num of data: 52336\n"
     ]
    }
   ],
   "source": [
    "train_ratio = 1\n",
    "data = Data('data/sentiment.csv',\n",
    "            'data/social_relation.csv',\n",
    "            'data/celebrity_profile.csv',\n",
    "            'data/ordinary_user_profile.csv',\n",
    "            train_ratio,\n",
    "            random_state=0)\n",
    "holders_id_train, targets_id_train, holders_id_test, targets_id_test, holders_sen_adj_train, targets_sen_adj_train, y_train, holders_sen_adj_test, targets_sen_adj_test, y_test, adj_s = data.get_sentiment_data()\n",
    "y_train = y_train.astype(np.float32)\n",
    "y_test = y_test.astype(np.float32)\n",
    "holders_soc_adj_train, targets_soc_adj_train, holders_soc_adj_test, targets_soc_adj_test, adj_r = data.get_relation_data()\n",
    "# X1_p_train, X2_p_train, X1_p_test, X2_p_test, adj_o, adj_c = data.get_profile_data()\n",
    "\n",
    "num_user = adj_s.shape[0]\n",
    "num_data = len(holders_id_train)\n",
    "input_dim_adj_vec = holders_sen_adj_train.shape[1]\n",
    "# input_dim_op = X1_p_train.shape[1]\n",
    "# input_dim_cp = X2_p_train.shape[1]\n",
    "\n",
    "print(\"num of user:\", num_user)\n",
    "print(\"num of data:\", num_data)"
   ]
  },
  {
   "cell_type": "markdown",
   "metadata": {},
   "source": [
    "---"
   ]
  },
  {
   "cell_type": "markdown",
   "metadata": {},
   "source": [
    "# 二、建構模型"
   ]
  },
  {
   "cell_type": "markdown",
   "metadata": {},
   "source": [
    "## 定義超參數"
   ]
  },
  {
   "cell_type": "code",
   "execution_count": 4,
   "metadata": {},
   "outputs": [],
   "source": [
    "epoch_size = 5\n",
    "batch_size = 1000\n",
    "l2_weight = 0\n",
    "lambda_proxi = 1\n",
    "optimizer = Adam(learning_rate=0.001)\n",
    "\n",
    "EMBEDDING_DIM = 64\n",
    "n_layers = 1"
   ]
  },
  {
   "cell_type": "markdown",
   "metadata": {},
   "source": [
    "## 定義 GCN Layer"
   ]
  },
  {
   "cell_type": "code",
   "execution_count": 5,
   "metadata": {},
   "outputs": [],
   "source": [
    "def create_lightgcn_embed(adj, name, n_layers=3, init_embeddings=None):\n",
    "    c_adj = bk.constant(adj)\n",
    "    if init_embeddings is None:\n",
    "        initializer = tf.initializers.GlorotUniform()\n",
    "        ego_embeddings = tf.Variable(initializer([num_user, EMBEDDING_DIM]), name=name)\n",
    "    else:\n",
    "        ego_embeddings = init_embeddings\n",
    "    all_embeddings = [ego_embeddings]\n",
    "\n",
    "    for k in range(0, n_layers):\n",
    "        #將adj矩陣和ego相乘\n",
    "        side_embeddings = bk.dot(c_adj, ego_embeddings)\n",
    "        ego_embeddings = side_embeddings\n",
    "        all_embeddings += [ego_embeddings]\n",
    "\n",
    "    # 將每一層 GCN Layer 的結果全部 Concatenate 起來，可以保留不同視野下的資訊並減少 Over-Smooth問題\n",
    "    all_embeddings = tf.stack(all_embeddings, 1)\n",
    "    all_embeddings = tf.reduce_mean(all_embeddings, axis=1, keepdims=False)\n",
    "\n",
    "    return all_embeddings"
   ]
  },
  {
   "cell_type": "markdown",
   "metadata": {},
   "source": [
    "### 定義幾個 Loss function"
   ]
  },
  {
   "cell_type": "code",
   "execution_count": 6,
   "metadata": {},
   "outputs": [],
   "source": [
    "# put more weight on non-zero terms\n",
    "alpha = 10\n",
    "def reconstruction_loss(y_true, y_pred):\n",
    "    sqr = bk.square(y_pred - y_true)\n",
    "    weight = bk.abs(y_true) * (alpha - 1) + 1\n",
    "    return bk.sum(sqr * weight, axis=-1)\n",
    "\n",
    "def proximity_loss(y_true, y_pred):\n",
    "    return bk.sum(-y_pred * y_true, axis=-1)\n",
    "\n",
    "def proximity_loss_paper(y_true, y_pred):\n",
    "      return  bk.sum(bk.square(y_true - y_pred))"
   ]
  },
  {
   "cell_type": "markdown",
   "metadata": {},
   "source": [
    "### 定義模型結構"
   ]
  },
  {
   "cell_type": "code",
   "execution_count": 7,
   "metadata": {},
   "outputs": [],
   "source": [
    "# placeholder definition\n",
    "holder_input = Input(name='holder_index_input', shape=(1), dtype=tf.int32)\n",
    "target_input = Input(name='target_index_input', shape=(1), dtype=tf.int32)\n",
    "\n",
    "# Use GCN layer to obtain the sentiment embedding table\n",
    "sen_emb_table = Embedding(num_user,\n",
    "                          EMBEDDING_DIM,\n",
    "                          embeddings_initializer=Constant(\n",
    "                              create_lightgcn_embed(adj_s, name=\"sen\", n_layers=n_layers)\n",
    "                          ),\n",
    "                          trainable=True,\n",
    "                          input_shape=(None, ))\n",
    "\n",
    "# Temp Operation: for initialize the weight matrix of embedding layer\n",
    "sen_emb_table(0)\n",
    "\n",
    "# Pass sentiment embedding table into social relation GCN\n",
    "soc_emb_table = Embedding(num_user, \n",
    "                          EMBEDDING_DIM,\n",
    "                          embeddings_initializer=Constant(\n",
    "                              create_lightgcn_embed(adj_r, name=\"soc\", n_layers=n_layers, init_embeddings=sen_emb_table.weights[0])\n",
    "                          ),\n",
    "                          trainable=True,\n",
    "                          input_shape=(None, ))\n",
    "\n",
    "\n",
    "# Lookup the embedding table to obtain the embeddings of holder and target in both graph\n",
    "holder_sen_emb = sen_emb_table(holder_input)\n",
    "target_sen_emb = sen_emb_table(target_input)\n",
    "holder_soc_emb = soc_emb_table(holder_input)\n",
    "target_soc_emb = soc_emb_table(target_input)\n",
    "\n",
    "# dot product of two users\n",
    "sen_proximity = Dot(axes=-1, normalize=True)([holder_sen_emb, target_sen_emb])\n",
    "soc_proximity = Dot(axes=-1, normalize=True)([holder_soc_emb, target_soc_emb])\n",
    "\n",
    "\n",
    "########## Aggregation layer ##########\n",
    "proximity = Add()([sen_proximity, soc_proximity])\n",
    "\n",
    "# 訓練用模型\n",
    "model = Model(inputs=[holder_input, target_input],\n",
    "              outputs=[proximity])\n",
    "model.compile(optimizer=optimizer,\n",
    "              loss=[proximity_loss],\n",
    "              loss_weights=[1])\n",
    "\n",
    "# 預測用模型\n",
    "predict_model = Model(inputs=[holder_input, target_input], outputs=proximity)\n",
    "\n",
    "# 取得 holder_emb 模型\n",
    "# holder_agg_emb_model = Model(inputs=[holder_input], outputs=holder_agg_emb)"
   ]
  },
  {
   "cell_type": "markdown",
   "metadata": {},
   "source": [
    "### 訓練模型"
   ]
  },
  {
   "cell_type": "code",
   "execution_count": 8,
   "metadata": {
    "scrolled": false
   },
   "outputs": [
    {
     "name": "stdout",
     "output_type": "stream",
     "text": [
      "Epoch 1/5\n",
      "53/53 [==============================] - 1s 11ms/step - loss: -0.5379 - val_loss: -0.1300\n",
      "Epoch 2/5\n",
      "53/53 [==============================] - 0s 8ms/step - loss: -0.8373 - val_loss: -0.2549\n",
      "Epoch 3/5\n",
      "53/53 [==============================] - 0s 7ms/step - loss: -1.0740 - val_loss: -0.3822\n",
      "Epoch 4/5\n",
      "53/53 [==============================] - 0s 7ms/step - loss: -1.2750 - val_loss: -0.4727\n",
      "Epoch 5/5\n",
      "53/53 [==============================] - 0s 7ms/step - loss: -1.4150 - val_loss: -0.5275\n",
      "Time:  2.799641540274024\n"
     ]
    }
   ],
   "source": [
    "start = timeit.default_timer()\n",
    "h = model.fit(x=[holders_id_train, targets_id_train],\n",
    "          y=[y_train],\n",
    "          epochs=epoch_size,\n",
    "          batch_size=batch_size,\n",
    "#           validation_split=0.1)\n",
    "          validation_data=([holders_id_test, targets_id_test], y_test))\n",
    "stop = timeit.default_timer()\n",
    "print('Time: ', stop - start)"
   ]
  },
  {
   "cell_type": "code",
   "execution_count": 9,
   "metadata": {},
   "outputs": [
    {
     "data": {
      "image/png": "[encoded data removed]",
      "text/plain": [
       "<Figure size 432x288 with 1 Axes>"
      ]
     },
     "metadata": {
      "needs_background": "light"
     },
     "output_type": "display_data"
    }
   ],
   "source": [
    "plt.plot(h.history['loss'], label='train_loss')\n",
    "plt.plot(h.history['val_loss'], label='val_loss')\n",
    "plt.legend(loc='upper right')\n",
    "\n",
    "plt.show()"
   ]
  },
  {
   "cell_type": "markdown",
   "metadata": {},
   "source": [
    "### 效果評估\n",
    "使用 Metric:\n",
    "- Accuracy\n",
    "- Precision\n",
    "- Recall\n",
    "- F1-Score\n",
    "- AUC"
   ]
  },
  {
   "cell_type": "code",
   "execution_count": 10,
   "metadata": {
    "scrolled": true
   },
   "outputs": [
    {
     "name": "stdout",
     "output_type": "stream",
     "text": [
      "Train\n",
      "0.6045551819015591\n",
      "0.7159172019985724\n",
      "0.9575857152056898\n",
      "\n",
      "Test\n",
      "0.7524590163934426\n",
      "0.7524590163934426\n",
      "0.8366165009406075\n",
      "\n"
     ]
    }
   ],
   "source": [
    "def result(X, Y, mode=''):\n",
    "    # Predict\n",
    "    y_predict_raw = predict_model.predict(X).flatten()\n",
    "    y_predict = y_predict_raw.copy()\n",
    "    y_threshold = np.median(y_predict_raw)\n",
    "    \n",
    "    y_predict[y_predict_raw < y_threshold] = -1\n",
    "    y_predict[y_predict_raw >= y_threshold] = 1\n",
    "    \n",
    "    # Calculate Performance\n",
    "    accuracy = accuracy_score(Y, y_predict)\n",
    "    f1 = f1_score(Y, y_predict, average='binary')\n",
    "    AUC = roc_auc_score(Y, y_predict_raw)\n",
    "    print(mode)\n",
    "    print(accuracy)\n",
    "    print(f1)\n",
    "    print(AUC)\n",
    "    print()\n",
    "\n",
    "result(X=[holders_id_train, targets_id_train], Y=y_train, mode='Train')\n",
    "result(X=[holders_id_test, targets_id_test], Y=y_test, mode='Test')\n"
   ]
  },
  {
   "cell_type": "code",
   "execution_count": 11,
   "metadata": {},
   "outputs": [
    {
     "name": "stdout",
     "output_type": "stream",
     "text": [
      "Model: \"functional_1\"\n",
      "__________________________________________________________________________________________________\n",
      "Layer (type)                    Output Shape         Param #     Connected to                     \n",
      "==================================================================================================\n",
      "holder_index_input (InputLayer) [(None, 1)]          0                                            \n",
      "__________________________________________________________________________________________________\n",
      "target_index_input (InputLayer) [(None, 1)]          0                                            \n",
      "__________________________________________________________________________________________________\n",
      "embedding (Embedding)           (None, 1, 64)        820096      holder_index_input[0][0]         \n",
      "                                                                 target_index_input[0][0]         \n",
      "__________________________________________________________________________________________________\n",
      "embedding_1 (Embedding)         (None, 1, 64)        820096      holder_index_input[0][0]         \n",
      "                                                                 target_index_input[0][0]         \n",
      "__________________________________________________________________________________________________\n",
      "dot (Dot)                       (None, 1, 1)         0           embedding[0][0]                  \n",
      "                                                                 embedding[1][0]                  \n",
      "__________________________________________________________________________________________________\n",
      "dot_1 (Dot)                     (None, 1, 1)         0           embedding_1[0][0]                \n",
      "                                                                 embedding_1[1][0]                \n",
      "__________________________________________________________________________________________________\n",
      "add (Add)                       (None, 1, 1)         0           dot[0][0]                        \n",
      "                                                                 dot_1[0][0]                      \n",
      "==================================================================================================\n",
      "Total params: 1,640,192\n",
      "Trainable params: 1,640,192\n",
      "Non-trainable params: 0\n",
      "__________________________________________________________________________________________________\n"
     ]
    }
   ],
   "source": [
    "model.summary()"
   ]
  },
  {
   "cell_type": "code",
   "execution_count": null,
   "metadata": {},
   "outputs": [],
   "source": []
  }
 ],
 "metadata": {
  "kernelspec": {
   "display_name": "Python 3",
   "language": "python",
   "name": "python3"
  },
  "language_info": {
   "codemirror_mode": {
    "name": "ipython",
    "version": 3
   },
   "file_extension": ".py",
   "mimetype": "text/x-python",
   "name": "python",
   "nbconvert_exporter": "python",
   "pygments_lexer": "ipython3",
   "version": "3.6.9"
  }
 },
 "nbformat": 4,
 "nbformat_minor": 2
}
