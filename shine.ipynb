{
 "cells": [
  {
   "cell_type": "markdown",
   "metadata": {},
   "source": [
    "# 原始 SHINE 模型"
   ]
  },
  {
   "cell_type": "code",
   "execution_count": 1,
   "metadata": {},
   "outputs": [],
   "source": [
    "from tensorflow.keras.layers import Input, Dense, Dot, Add\n",
    "from tensorflow.keras.models import Model\n",
    "from tensorflow.keras.regularizers import l2\n",
    "from tensorflow.keras import backend as bk\n",
    "from sklearn.metrics import accuracy_score, f1_score, precision_score, recall_score, roc_auc_score\n",
    "from prepare_data import Data\n",
    "import os\n",
    "import numpy as np\n",
    "import timeit\n",
    "import matplotlib.pyplot as plt"
   ]
  },
  {
   "cell_type": "code",
   "execution_count": 2,
   "metadata": {},
   "outputs": [],
   "source": [
    "os.environ['TF_CPP_MIN_LOG_LEVEL'] = '2'\n",
    "# os.environ[\"path\"] += os.pathsep + 'c:/program files (x86)/graphviz2.38/bin'\n",
    "# saveDir = \"C:/Users/user/Google 雲端硬碟/NCKU_NETAI/SHINE/DGE/model\""
   ]
  },
  {
   "cell_type": "markdown",
   "metadata": {},
   "source": [
    "# 一、讀取資料，包含:\n",
    "1. Sentiment Graph\n",
    "2. Social Relation Graph\n",
    "3. Profile Bipartite Graph"
   ]
  },
  {
   "cell_type": "code",
   "execution_count": 3,
   "metadata": {},
   "outputs": [],
   "source": [
    "train_ratio = 1\n",
    "data = Data('data/sentiment.csv',\n",
    "            'data/social_relation.csv',\n",
    "            'data/celebrity_profile.csv',\n",
    "            'data/ordinary_user_profile.csv',\n",
    "            train_ratio,\n",
    "           random_state=0) # random_state 設0為SHINE原始碼所用之切割，效果會最好，acc約有 80% 左右。\n",
    "\n",
    "X1_s_train, X2_s_train, y_train, X1_s_test, X2_s_test, y_test, _ = data.get_sentiment_data()\n",
    "y_train = y_train.astype(np.float32)\n",
    "y_test = y_test.astype(np.float32)\n",
    "\n",
    "X1_r_train, X2_r_train, X1_r_test, X2_r_test, adj_matrix_r = data.get_relation_data()\n",
    "X1_p_train, X2_p_train, X1_p_test, X2_p_test, o_profile_one_hot, c_profile_one_hot = data.get_profile_data()\n",
    "\n",
    "input_dim_all_user = X1_s_train.shape[1]\n",
    "input_dim_op = X1_p_train.shape[1]\n",
    "input_dim_cp = X2_p_train.shape[1]"
   ]
  },
  {
   "cell_type": "markdown",
   "metadata": {},
   "source": [
    "---"
   ]
  },
  {
   "cell_type": "markdown",
   "metadata": {},
   "source": [
    "\n",
    "# 二、建構模型"
   ]
  },
  {
   "cell_type": "markdown",
   "metadata": {},
   "source": [
    "### 定義幾個 Loss function"
   ]
  },
  {
   "cell_type": "code",
   "execution_count": 4,
   "metadata": {},
   "outputs": [],
   "source": [
    "# put more weight on non-zero terms\n",
    "alpha = 10\n",
    "def reconstruction_loss(y_true, y_pred):\n",
    "    sqr = bk.square(y_pred - y_true)\n",
    "    weight = bk.abs(y_true) * (alpha - 1) + 1\n",
    "    return bk.sum(sqr * weight, axis=-1)\n",
    "\n",
    "def proximity_loss(y_true, y_pred):\n",
    "    return bk.sum(-y_pred * y_true, axis=-1)\n",
    "\n",
    "def proximity_loss_paper(y_true, y_pred):\n",
    "      return  bk.sum(bk.square(y_true - y_pred))"
   ]
  },
  {
   "cell_type": "markdown",
   "metadata": {},
   "source": [
    "### 定義超參數"
   ]
  },
  {
   "cell_type": "code",
   "execution_count": 5,
   "metadata": {},
   "outputs": [],
   "source": [
    "epoch_size = 5\n",
    "batch_size = 512\n",
    "EMBEDDING_DIM = 64\n",
    "l2_weight = 0.01\n",
    "lambda_sen = 1\n",
    "lambda_soc = 1\n",
    "lambda_pro = 1\n",
    "lambda_output = 30\n",
    "sen_act = 'tanh'\n",
    "soc_act = 'sigmoid'\n",
    "pro_act = 'sigmoid'\n",
    "optimizer = 'adam'\n",
    "recon_loss = reconstruction_loss\n",
    "proxi_loss = proximity_loss"
   ]
  },
  {
   "cell_type": "markdown",
   "metadata": {},
   "source": [
    "### 定義模型結構"
   ]
  },
  {
   "cell_type": "code",
   "execution_count": 6,
   "metadata": {},
   "outputs": [],
   "source": [
    "input_dim_all_user = X1_s_train.shape[1]\n",
    "input_dim_op = X1_p_train.shape[1]\n",
    "input_dim_cp = X2_p_train.shape[1]\n",
    "\n",
    "########## Sentiment graph autoencoder ##########\n",
    "# Input layer\n",
    "sen_holder_input = Input(shape=(input_dim_all_user,))\n",
    "sen_target_input = Input(shape=(input_dim_all_user,))\n",
    "\n",
    "# encoder\n",
    "sen_encoder = Dense(EMBEDDING_DIM, activation=sen_act, kernel_regularizer=l2(l2_weight))\n",
    "sen_holder_emb = sen_encoder(sen_holder_input)\n",
    "sen_target_emb = sen_encoder(sen_target_input)\n",
    "\n",
    "# decoder\n",
    "sen_decoder = Dense(input_dim_all_user, activation=sen_act, kernel_regularizer=l2(l2_weight))\n",
    "sen_recon_holder = sen_decoder(sen_holder_emb)\n",
    "sen_recon_target = sen_decoder(sen_target_emb)\n",
    "\n",
    "# dot product of two users\n",
    "sen_proximity = Dot(axes=-1, normalize=True)([sen_holder_emb, sen_target_emb])\n",
    "\n",
    "\n",
    "########## Social relation graph autoencoder ##########\n",
    "# Input layer\n",
    "soc_holder_input = Input(shape=(input_dim_all_user,))\n",
    "soc_target_input = Input(shape=(input_dim_all_user,))\n",
    "\n",
    "# encoder\n",
    "soc_encoder = Dense(EMBEDDING_DIM, activation=soc_act, kernel_regularizer=l2(l2_weight))\n",
    "soc_holder_emb = soc_encoder(soc_holder_input)\n",
    "soc_target_emb = soc_encoder(soc_target_input)\n",
    "\n",
    "# decoder\n",
    "soc_decoder = Dense(input_dim_all_user, activation=soc_act, kernel_regularizer=l2(l2_weight))\n",
    "soc_recon_holder = soc_decoder(soc_holder_emb)\n",
    "soc_recon_target = soc_decoder(soc_target_emb)\n",
    "\n",
    "# dot product of two users\n",
    "soc_proximity = Dot(axes=-1, normalize=True)([soc_holder_emb, soc_target_emb])\n",
    "\n",
    "\n",
    "########## Profile graph autoencoder ##########\n",
    "# o: ordinary people, c: celebrity\n",
    "# Input layer\n",
    "pro_o_input = Input(shape=(input_dim_op,))\n",
    "pro_c_input = Input(shape=(input_dim_cp,))\n",
    "\n",
    "# encoder\n",
    "pro_o_encoder = Dense(EMBEDDING_DIM, activation=pro_act, kernel_regularizer=l2(l2_weight))\n",
    "pro_c_encoder = Dense(EMBEDDING_DIM, activation=pro_act, kernel_regularizer=l2(l2_weight))\n",
    "pro_o_emb = pro_o_encoder(pro_o_input)\n",
    "pro_c_emb = pro_c_encoder(pro_c_input)\n",
    "\n",
    "# decoder\n",
    "pro_o_decoder = Dense(input_dim_op, activation=pro_act, kernel_regularizer=l2(l2_weight))\n",
    "pro_c_decoder = Dense(input_dim_cp, activation=pro_act, kernel_regularizer=l2(l2_weight))\n",
    "pro_recon_o = pro_o_decoder(pro_o_emb)\n",
    "pro_recon_c = pro_c_decoder(pro_c_emb)\n",
    "\n",
    "# dot product of two users\n",
    "pro_proximity = Dot(axes=-1, normalize=True)([pro_o_emb, pro_c_emb])\n",
    "\n",
    "\n",
    "########## Aggregation layer ##########\n",
    "# 最終預測情感值\n",
    "proximity = Add()([sen_proximity, soc_proximity, pro_proximity])\n",
    "\n",
    "# 訓練用模型\n",
    "model = Model(inputs=[sen_holder_input, sen_target_input, soc_holder_input, soc_target_input, pro_o_input, pro_c_input],\n",
    "              outputs=[sen_recon_holder, sen_recon_target, soc_recon_holder, soc_recon_target, pro_recon_o, pro_recon_c, proximity])\n",
    "model.compile(optimizer=optimizer,\n",
    "              loss=[recon_loss, recon_loss, recon_loss,\n",
    "                    recon_loss, recon_loss, recon_loss, proxi_loss],\n",
    "              loss_weights=[lambda_sen, lambda_sen, lambda_soc, lambda_soc, lambda_pro, lambda_pro, lambda_output])\n",
    "\n",
    "# 預測用模型\n",
    "predict_model = Model(inputs=[sen_holder_input, sen_target_input, soc_holder_input, soc_target_input, pro_o_input, pro_c_input],\n",
    "                      outputs=proximity)"
   ]
  },
  {
   "cell_type": "markdown",
   "metadata": {},
   "source": [
    "### 訓練模型"
   ]
  },
  {
   "cell_type": "code",
   "execution_count": 7,
   "metadata": {
    "scrolled": false
   },
   "outputs": [
    {
     "name": "stdout",
     "output_type": "stream",
     "text": [
      "Epoch 1/3\n",
      "103/103 [==============================] - 21s 205ms/step - loss: 3425.7080 - dense_1_loss: 117.4875 - dense_1_1_loss: 423.8878 - dense_3_loss: 1282.7574 - dense_3_1_loss: 1582.3510 - dense_6_loss: 7.2077 - dense_7_loss: 27.6186 - add_loss: -2.0316 - val_loss: 1511.3995 - val_dense_1_loss: 87.2114 - val_dense_1_1_loss: 210.5212 - val_dense_3_loss: 341.6634 - val_dense_3_1_loss: 773.0676 - val_dense_6_loss: 6.1179 - val_dense_7_loss: 22.7360 - val_add_loss: -0.1516\n",
      "Epoch 2/3\n",
      "103/103 [==============================] - 24s 234ms/step - loss: 1350.3778 - dense_1_loss: 92.0806 - dense_1_1_loss: 190.1527 - dense_3_loss: 307.3583 - dense_3_1_loss: 708.7907 - dense_6_loss: 5.6958 - dense_7_loss: 21.4318 - add_loss: -2.0482 - val_loss: 1338.9807 - val_dense_1_loss: 79.6310 - val_dense_1_1_loss: 170.6544 - val_dense_3_loss: 269.5916 - val_dense_3_1_loss: 702.1226 - val_dense_6_loss: 5.7065 - val_dense_7_loss: 20.3604 - val_add_loss: -0.1418\n",
      "Epoch 3/3\n",
      "103/103 [==============================] - 13s 124ms/step - loss: 1259.5853 - dense_1_loss: 87.4014 - dense_1_1_loss: 169.5040 - dense_3_loss: 269.2322 - dense_3_1_loss: 670.5421 - dense_6_loss: 5.2867 - dense_7_loss: 18.9584 - add_loss: -2.0565 - val_loss: 1291.0105 - val_dense_1_loss: 77.1640 - val_dense_1_1_loss: 161.5461 - val_dense_3_loss: 258.5258 - val_dense_3_1_loss: 670.5148 - val_dense_6_loss: 5.2844 - val_dense_7_loss: 17.7654 - val_add_loss: -0.1469\n",
      "Time:  125.88634159002686\n"
     ]
    }
   ],
   "source": [
    "start = timeit.default_timer()\n",
    "h = model.fit(x=[X1_s_train, X2_s_train, X1_r_train, X2_r_train, X1_p_train, X2_p_train],\n",
    "              y=[X1_s_train, X2_s_train, X1_r_train, X2_r_train, X1_p_train, X2_p_train, y_train],\n",
    "              epochs=epoch_size,\n",
    "              batch_size=batch_size,\n",
    "              validation_data=([X1_s_test, X2_s_test, X1_r_test, X2_r_test, X1_p_test, X2_p_test],\n",
    "                               [X1_s_test, X2_s_test, X1_r_test, X2_r_test, X1_p_test, X2_p_test, y_test]),\n",
    "             verbose=1)\n",
    "stop = timeit.default_timer()\n",
    "print('Time: ', stop - start) "
   ]
  },
  {
   "cell_type": "markdown",
   "metadata": {},
   "source": [
    "### 繪製訓練誤差與驗證誤差圖，此處只看最終預測值的誤差而不看 Reconstruction"
   ]
  },
  {
   "cell_type": "code",
   "execution_count": 8,
   "metadata": {},
   "outputs": [
    {
     "data": {
      "image/png": "[encoded data removed]",
      "text/plain": [
       "<Figure size 432x288 with 1 Axes>"
      ]
     },
     "metadata": {
      "needs_background": "light"
     },
     "output_type": "display_data"
    }
   ],
   "source": [
    "plt.plot(h.history['add_loss'], label='train_loss')\n",
    "plt.plot(h.history['val_add_loss'], label='val_loss')\n",
    "plt.legend(loc='upper right')\n",
    "\n",
    "plt.show()"
   ]
  },
  {
   "cell_type": "markdown",
   "metadata": {},
   "source": [
    "### 效果評估"
   ]
  },
  {
   "cell_type": "code",
   "execution_count": 9,
   "metadata": {
    "scrolled": true
   },
   "outputs": [
    {
     "name": "stdout",
     "output_type": "stream",
     "text": [
      "Acc, F1, AUC:\n",
      "Train\n",
      "0.6074594925099358\n",
      "0.7180036237852084\n",
      "0.9963254738625138\n",
      "\n",
      "Test\n",
      "0.8065573770491803\n",
      "0.8065573770491803\n",
      "0.8942287019618382\n",
      "\n"
     ]
    }
   ],
   "source": [
    "def result(X, Y, mode=''):\n",
    "    # 模型預測值\n",
    "    y_predict_raw = predict_model.predict(X).flatten()\n",
    "    y_predict = y_predict_raw.copy()\n",
    "    \n",
    "    # 計算中位數當作二分的門檻值\n",
    "    y_threshold = np.median(y_predict_raw)\n",
    "    y_predict[y_predict_raw < y_threshold] = -1\n",
    "    y_predict[y_predict_raw >= y_threshold] = 1\n",
    "    \n",
    "    # 用 Ground Truth 計算各種 Metrics\n",
    "    accuracy = accuracy_score(Y, y_predict)\n",
    "    f1 = f1_score(Y, y_predict, average='binary')\n",
    "    AUC = roc_auc_score(Y, y_predict_raw)\n",
    "    print(mode)\n",
    "    print(accuracy)\n",
    "    print(f1)\n",
    "    print(AUC)\n",
    "    print()\n",
    "\n",
    "\n",
    "print(\"Acc, F1, AUC:\")\n",
    "result(X=[X1_s_train, X2_s_train, X1_r_train, X2_r_train, X1_p_train, X2_p_train], Y=y_train, mode='Train')\n",
    "result(X=[X1_s_test, X2_s_test, X1_r_test, X2_r_test, X1_p_test, X2_p_test], Y=y_test, mode='Test')"
   ]
  },
  {
   "cell_type": "code",
   "execution_count": null,
   "metadata": {},
   "outputs": [],
   "source": []
  }
 ],
 "metadata": {
  "kernelspec": {
   "display_name": "Python 3",
   "language": "python",
   "name": "python3"
  },
  "language_info": {
   "codemirror_mode": {
    "name": "ipython",
    "version": 3
   },
   "file_extension": ".py",
   "mimetype": "text/x-python",
   "name": "python",
   "nbconvert_exporter": "python",
   "pygments_lexer": "ipython3",
   "version": "3.6.9"
  }
 },
 "nbformat": 4,
 "nbformat_minor": 2
}
