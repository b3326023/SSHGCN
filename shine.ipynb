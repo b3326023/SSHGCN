{
 "cells": [
  {
   "cell_type": "markdown",
   "metadata": {},
   "source": [
    "# 原始 SHINE 模型"
   ]
  },
  {
   "cell_type": "code",
   "execution_count": 1,
   "metadata": {},
   "outputs": [],
   "source": [
    "from tensorflow.keras.layers import Input, Dense, Dot, Add\n",
    "from tensorflow.keras.models import Model\n",
    "from tensorflow.keras.regularizers import l2\n",
    "from tensorflow.keras import backend as bk\n",
    "\n",
    "from tensorflow.keras.optimizers import Adam\n",
    "from sklearn.metrics import accuracy_score, f1_score, precision_score, recall_score, roc_auc_score\n",
    "from prepare_data import Data\n",
    "import os\n",
    "import numpy as np\n",
    "import timeit\n",
    "import matplotlib.pyplot as plt"
   ]
  },
  {
   "cell_type": "code",
   "execution_count": 2,
   "metadata": {},
   "outputs": [],
   "source": [
    "os.environ['TF_CPP_MIN_LOG_LEVEL'] = '2'\n",
    "# os.environ[\"path\"] += os.pathsep + 'c:/program files (x86)/graphviz2.38/bin'\n",
    "# saveDir = \"C:/Users/user/Google 雲端硬碟/NCKU_NETAI/SHINE/DGE/model\""
   ]
  },
  {
   "cell_type": "markdown",
   "metadata": {},
   "source": [
    "# 一、讀取資料，包含:\n",
    "1. Sentiment Graph\n",
    "2. Social Relation Graph\n",
    "3. Profile Bipartite Graph"
   ]
  },
  {
   "cell_type": "code",
   "execution_count": 3,
   "metadata": {},
   "outputs": [],
   "source": [
    "train_ratio = 1\n",
    "data = Data('data/sentiment.csv',\n",
    "            'data/social_relation.csv',\n",
    "            'data/celebrity_profile.csv',\n",
    "            'data/ordinary_user_profile.csv',\n",
    "            train_ratio,\n",
    "           random_state=20) # random_state 設0為SHINE原始碼所用之切割，效果會最好，acc約有 80% 左右。\n",
    "\n",
    "X1_s_train, X2_s_train, y_train, X1_s_test, X2_s_test, y_test, _ = data.get_sentiment_data()\n",
    "y_train = y_train.astype(np.float32)\n",
    "y_test = y_test.astype(np.float32)\n",
    "\n",
    "X1_r_train, X2_r_train, X1_r_test, X2_r_test, adj_matrix_r = data.get_relation_data()\n",
    "X1_p_train, X2_p_train, X1_p_test, X2_p_test, o_profile_one_hot, c_profile_one_hot = data.get_profile_data()\n",
    "\n",
    "input_dim_all_user = X1_s_train.shape[1]\n",
    "input_dim_op = X1_p_train.shape[1]\n",
    "input_dim_cp = X2_p_train.shape[1]"
   ]
  },
  {
   "cell_type": "markdown",
   "metadata": {},
   "source": [
    "---"
   ]
  },
  {
   "cell_type": "markdown",
   "metadata": {},
   "source": [
    "\n",
    "# 二、建構模型"
   ]
  },
  {
   "cell_type": "markdown",
   "metadata": {},
   "source": [
    "### 定義幾個 Loss function"
   ]
  },
  {
   "cell_type": "code",
   "execution_count": 4,
   "metadata": {},
   "outputs": [],
   "source": [
    "# put more weight on non-zero terms\n",
    "alpha = 10\n",
    "def reconstruction_loss(y_true, y_pred):\n",
    "    sqr = bk.square(y_pred - y_true)\n",
    "    weight = bk.abs(y_true) * (alpha - 1) + 1\n",
    "    return bk.sum(sqr * weight, axis=-1)\n",
    "\n",
    "def proximity_loss(y_true, y_pred):\n",
    "    return bk.sum(-y_pred * y_true, axis=-1)\n",
    "\n",
    "def proximity_loss_paper(y_true, y_pred):\n",
    "      return  bk.sum(bk.square(y_true - y_pred))"
   ]
  },
  {
   "cell_type": "markdown",
   "metadata": {},
   "source": [
    "### 定義超參數"
   ]
  },
  {
   "cell_type": "code",
   "execution_count": 5,
   "metadata": {},
   "outputs": [],
   "source": [
    "epoch_size = 5\n",
    "batch_size = 512\n",
    "EMBEDDING_DIM = 64\n",
    "l2_weight = 0\n",
    "lambda_sen = 1\n",
    "lambda_soc = 1\n",
    "lambda_pro = 1\n",
    "lambda_output = 30\n",
    "sen_act = 'tanh'\n",
    "soc_act = 'sigmoid'\n",
    "pro_act = 'sigmoid'\n",
    "optimizer = Adam(learning_rate=0.01)\n",
    "recon_loss = reconstruction_loss\n",
    "proxi_loss = proximity_loss"
   ]
  },
  {
   "cell_type": "markdown",
   "metadata": {},
   "source": [
    "### 定義模型結構"
   ]
  },
  {
   "cell_type": "code",
   "execution_count": 6,
   "metadata": {},
   "outputs": [],
   "source": [
    "input_dim_all_user = X1_s_train.shape[1]\n",
    "input_dim_op = X1_p_train.shape[1]\n",
    "input_dim_cp = X2_p_train.shape[1]\n",
    "\n",
    "########## Sentiment graph autoencoder ##########\n",
    "# Input layer\n",
    "sen_holder_input = Input(shape=(input_dim_all_user,))\n",
    "sen_target_input = Input(shape=(input_dim_all_user,))\n",
    "\n",
    "# encoder\n",
    "sen_encoder = Dense(EMBEDDING_DIM, activation=sen_act, kernel_regularizer=l2(l2_weight))\n",
    "sen_holder_emb = sen_encoder(sen_holder_input)\n",
    "sen_target_emb = sen_encoder(sen_target_input)\n",
    "\n",
    "# decoder\n",
    "sen_decoder = Dense(input_dim_all_user, activation=sen_act, kernel_regularizer=l2(l2_weight))\n",
    "sen_recon_holder = sen_decoder(sen_holder_emb)\n",
    "sen_recon_target = sen_decoder(sen_target_emb)\n",
    "\n",
    "# dot product of two users\n",
    "sen_proximity = Dot(axes=-1, normalize=True)([sen_holder_emb, sen_target_emb])\n",
    "\n",
    "\n",
    "########## Social relation graph autoencoder ##########\n",
    "# Input layer\n",
    "soc_holder_input = Input(shape=(input_dim_all_user,))\n",
    "soc_target_input = Input(shape=(input_dim_all_user,))\n",
    "\n",
    "# encoder\n",
    "soc_encoder = Dense(EMBEDDING_DIM, activation=soc_act, kernel_regularizer=l2(l2_weight))\n",
    "soc_holder_emb = soc_encoder(soc_holder_input)\n",
    "soc_target_emb = soc_encoder(soc_target_input)\n",
    "\n",
    "# decoder\n",
    "soc_decoder = Dense(input_dim_all_user, activation=soc_act, kernel_regularizer=l2(l2_weight))\n",
    "soc_recon_holder = soc_decoder(soc_holder_emb)\n",
    "soc_recon_target = soc_decoder(soc_target_emb)\n",
    "\n",
    "# dot product of two users\n",
    "soc_proximity = Dot(axes=-1, normalize=True)([soc_holder_emb, soc_target_emb])\n",
    "\n",
    "\n",
    "########## Profile graph autoencoder ##########\n",
    "# o: ordinary people, c: celebrity\n",
    "# Input layer\n",
    "pro_o_input = Input(shape=(input_dim_op,))\n",
    "pro_c_input = Input(shape=(input_dim_cp,))\n",
    "\n",
    "# encoder\n",
    "pro_o_encoder = Dense(EMBEDDING_DIM, activation=pro_act, kernel_regularizer=l2(l2_weight))\n",
    "pro_c_encoder = Dense(EMBEDDING_DIM, activation=pro_act, kernel_regularizer=l2(l2_weight))\n",
    "pro_o_emb = pro_o_encoder(pro_o_input)\n",
    "pro_c_emb = pro_c_encoder(pro_c_input)\n",
    "\n",
    "# decoder\n",
    "pro_o_decoder = Dense(input_dim_op, activation=pro_act, kernel_regularizer=l2(l2_weight))\n",
    "pro_c_decoder = Dense(input_dim_cp, activation=pro_act, kernel_regularizer=l2(l2_weight))\n",
    "pro_recon_o = pro_o_decoder(pro_o_emb)\n",
    "pro_recon_c = pro_c_decoder(pro_c_emb)\n",
    "\n",
    "# dot product of two users\n",
    "pro_proximity = Dot(axes=-1, normalize=True)([pro_o_emb, pro_c_emb])\n",
    "\n",
    "\n",
    "########## Aggregation layer ##########\n",
    "# 最終預測情感值\n",
    "proximity = Add()([sen_proximity, soc_proximity, pro_proximity])\n",
    "\n",
    "# 訓練用模型\n",
    "model = Model(inputs=[sen_holder_input, sen_target_input, soc_holder_input, soc_target_input, pro_o_input, pro_c_input],\n",
    "              outputs=[sen_recon_holder, sen_recon_target, soc_recon_holder, soc_recon_target, pro_recon_o, pro_recon_c, proximity])\n",
    "model.compile(optimizer=optimizer,\n",
    "              loss=[recon_loss, recon_loss, recon_loss,\n",
    "                    recon_loss, recon_loss, recon_loss, proxi_loss],\n",
    "              loss_weights=[lambda_sen, lambda_sen, lambda_soc, lambda_soc, lambda_pro, lambda_pro, lambda_output])\n",
    "\n",
    "# 預測用模型\n",
    "predict_model = Model(inputs=[sen_holder_input, sen_target_input, soc_holder_input, soc_target_input, pro_o_input, pro_c_input],\n",
    "                      outputs=proximity)"
   ]
  },
  {
   "cell_type": "markdown",
   "metadata": {},
   "source": [
    "### 訓練模型"
   ]
  },
  {
   "cell_type": "code",
   "execution_count": 7,
   "metadata": {
    "scrolled": false
   },
   "outputs": [
    {
     "name": "stdout",
     "output_type": "stream",
     "text": [
      "Epoch 1/5\n",
      "103/103 [==============================] - 41s 401ms/step - loss: 1606.6571 - dense_1_loss: 112.0320 - dense_1_1_loss: 345.6243 - dense_3_loss: 382.4989 - dense_3_1_loss: 805.9487 - dense_6_loss: 3.9288 - dense_7_loss: 15.7391 - add_loss: -1.9705 - val_loss: 1121.9728 - val_dense_1_loss: 89.1009 - val_dense_1_1_loss: 259.8479 - val_dense_3_loss: 185.0192 - val_dense_3_1_loss: 581.8954 - val_dense_6_loss: 1.4808 - val_dense_7_loss: 7.2567 - val_add_loss: -0.0876\n",
      "Epoch 2/5\n",
      "103/103 [==============================] - 43s 413ms/step - loss: 900.4269 - dense_1_loss: 102.8346 - dense_1_1_loss: 260.9960 - dense_3_loss: 150.4820 - dense_3_1_loss: 440.5418 - dense_6_loss: 0.9596 - dense_7_loss: 4.6772 - add_loss: -2.0021 - val_loss: 874.4839 - val_dense_1_loss: 89.8262 - val_dense_1_1_loss: 263.5097 - val_dense_3_loss: 114.2219 - val_dense_3_1_loss: 405.7770 - val_dense_6_loss: 0.6047 - val_dense_7_loss: 3.2333 - val_add_loss: -0.0896\n",
      "Epoch 3/5\n",
      "103/103 [==============================] - 39s 374ms/step - loss: 785.7092 - dense_1_loss: 103.0592 - dense_1_1_loss: 260.8984 - dense_3_loss: 123.2835 - dense_3_1_loss: 355.8315 - dense_6_loss: 0.4693 - dense_7_loss: 2.5332 - add_loss: -2.0122 - val_loss: 802.1855 - val_dense_1_loss: 90.0027 - val_dense_1_1_loss: 261.1097 - val_dense_3_loss: 105.6103 - val_dense_3_1_loss: 345.6452 - val_dense_6_loss: 0.3319 - val_dense_7_loss: 2.1320 - val_add_loss: -0.0882\n",
      "Epoch 4/5\n",
      "103/103 [==============================] - 36s 348ms/step - loss: 724.8773 - dense_1_loss: 102.8966 - dense_1_1_loss: 262.4225 - dense_3_loss: 114.9201 - dense_3_1_loss: 303.0392 - dense_6_loss: 0.2983 - dense_7_loss: 1.7937 - add_loss: -2.0164 - val_loss: 745.4366 - val_dense_1_loss: 89.9630 - val_dense_1_1_loss: 261.3749 - val_dense_3_loss: 99.2277 - val_dense_3_1_loss: 295.6491 - val_dense_6_loss: 0.2308 - val_dense_7_loss: 1.5894 - val_add_loss: -0.0866\n",
      "Epoch 5/5\n",
      "103/103 [==============================] - 36s 345ms/step - loss: 675.8613 - dense_1_loss: 103.2742 - dense_1_1_loss: 262.5377 - dense_3_loss: 108.7342 - dense_3_1_loss: 260.3146 - dense_6_loss: 0.2314 - dense_7_loss: 1.3988 - add_loss: -2.0210 - val_loss: 704.4499 - val_dense_1_loss: 89.9245 - val_dense_1_1_loss: 267.7521 - val_dense_3_loss: 94.8800 - val_dense_3_1_loss: 252.9195 - val_dense_6_loss: 0.1842 - val_dense_7_loss: 1.2825 - val_add_loss: -0.0831\n",
      "Time:  276.59653282538056\n"
     ]
    }
   ],
   "source": [
    "start = timeit.default_timer()\n",
    "h = model.fit(x=[X1_s_train, X2_s_train, X1_r_train, X2_r_train, X1_p_train, X2_p_train],\n",
    "              y=[X1_s_train, X2_s_train, X1_r_train, X2_r_train, X1_p_train, X2_p_train, y_train],\n",
    "              epochs=epoch_size,\n",
    "              batch_size=batch_size,\n",
    "              validation_data=([X1_s_test, X2_s_test, X1_r_test, X2_r_test, X1_p_test, X2_p_test],\n",
    "                               [X1_s_test, X2_s_test, X1_r_test, X2_r_test, X1_p_test, X2_p_test, y_test]),\n",
    "             verbose=1)\n",
    "stop = timeit.default_timer()\n",
    "print('Time: ', stop - start) "
   ]
  },
  {
   "cell_type": "markdown",
   "metadata": {},
   "source": [
    "### 繪製訓練誤差與驗證誤差圖，此處只看最終預測值的誤差而不看 Reconstruction"
   ]
  },
  {
   "cell_type": "code",
   "execution_count": 8,
   "metadata": {},
   "outputs": [
    {
     "data": {
      "image/png": "[encoded data removed]",
      "text/plain": [
       "<Figure size 432x288 with 1 Axes>"
      ]
     },
     "metadata": {
      "needs_background": "light"
     },
     "output_type": "display_data"
    }
   ],
   "source": [
    "plt.plot(h.history['add_loss'], label='train_loss')\n",
    "plt.plot(h.history['val_add_loss'], label='val_loss')\n",
    "plt.legend(loc='upper right')\n",
    "\n",
    "plt.show()"
   ]
  },
  {
   "cell_type": "markdown",
   "metadata": {},
   "source": [
    "### 效果評估"
   ]
  },
  {
   "cell_type": "code",
   "execution_count": 9,
   "metadata": {
    "scrolled": true
   },
   "outputs": [
    {
     "name": "stdout",
     "output_type": "stream",
     "text": [
      "Acc, F1, AUC:\n",
      "Train\n",
      "0.5940079486395597\n",
      "0.71071477195371\n",
      "0.9768670286794083\n",
      "\n",
      "Test\n",
      "0.6266556291390728\n",
      "0.6266556291390728\n",
      "0.6732339042147275\n",
      "\n"
     ]
    }
   ],
   "source": [
    "def result(X, Y, mode=''):\n",
    "    # 模型預測值\n",
    "    y_predict_raw = predict_model.predict(X).flatten()\n",
    "    y_predict = y_predict_raw.copy()\n",
    "    \n",
    "    # 計算中位數當作二分的門檻值\n",
    "    y_threshold = np.median(y_predict_raw)\n",
    "    y_predict[y_predict_raw < y_threshold] = -1\n",
    "    y_predict[y_predict_raw >= y_threshold] = 1\n",
    "    \n",
    "    # 用 Ground Truth 計算各種 Metrics\n",
    "    accuracy = accuracy_score(Y, y_predict)\n",
    "    f1 = f1_score(Y, y_predict, average='binary')\n",
    "    AUC = roc_auc_score(Y, y_predict_raw)\n",
    "    print(mode)\n",
    "    print(accuracy)\n",
    "    print(f1)\n",
    "    print(AUC)\n",
    "    print()\n",
    "\n",
    "\n",
    "print(\"Acc, F1, AUC:\")\n",
    "result(X=[X1_s_train, X2_s_train, X1_r_train, X2_r_train, X1_p_train, X2_p_train], Y=y_train, mode='Train')\n",
    "result(X=[X1_s_test, X2_s_test, X1_r_test, X2_r_test, X1_p_test, X2_p_test], Y=y_test, mode='Test')"
   ]
  },
  {
   "cell_type": "code",
   "execution_count": 10,
   "metadata": {},
   "outputs": [
    {
     "name": "stdout",
     "output_type": "stream",
     "text": [
      "Model: \"functional_1\"\n",
      "__________________________________________________________________________________________________\n",
      "Layer (type)                    Output Shape         Param #     Connected to                     \n",
      "==================================================================================================\n",
      "input_1 (InputLayer)            [(None, 25628)]      0                                            \n",
      "__________________________________________________________________________________________________\n",
      "input_2 (InputLayer)            [(None, 25628)]      0                                            \n",
      "__________________________________________________________________________________________________\n",
      "input_3 (InputLayer)            [(None, 25628)]      0                                            \n",
      "__________________________________________________________________________________________________\n",
      "input_4 (InputLayer)            [(None, 25628)]      0                                            \n",
      "__________________________________________________________________________________________________\n",
      "input_5 (InputLayer)            [(None, 37)]         0                                            \n",
      "__________________________________________________________________________________________________\n",
      "input_6 (InputLayer)            [(None, 108)]        0                                            \n",
      "__________________________________________________________________________________________________\n",
      "dense (Dense)                   (None, 64)           1640256     input_1[0][0]                    \n",
      "                                                                 input_2[0][0]                    \n",
      "__________________________________________________________________________________________________\n",
      "dense_2 (Dense)                 (None, 64)           1640256     input_3[0][0]                    \n",
      "                                                                 input_4[0][0]                    \n",
      "__________________________________________________________________________________________________\n",
      "dense_4 (Dense)                 (None, 64)           2432        input_5[0][0]                    \n",
      "__________________________________________________________________________________________________\n",
      "dense_5 (Dense)                 (None, 64)           6976        input_6[0][0]                    \n",
      "__________________________________________________________________________________________________\n",
      "dot (Dot)                       (None, 1)            0           dense[0][0]                      \n",
      "                                                                 dense[1][0]                      \n",
      "__________________________________________________________________________________________________\n",
      "dot_1 (Dot)                     (None, 1)            0           dense_2[0][0]                    \n",
      "                                                                 dense_2[1][0]                    \n",
      "__________________________________________________________________________________________________\n",
      "dot_2 (Dot)                     (None, 1)            0           dense_4[0][0]                    \n",
      "                                                                 dense_5[0][0]                    \n",
      "__________________________________________________________________________________________________\n",
      "dense_1 (Dense)                 (None, 25628)        1665820     dense[0][0]                      \n",
      "                                                                 dense[1][0]                      \n",
      "__________________________________________________________________________________________________\n",
      "dense_3 (Dense)                 (None, 25628)        1665820     dense_2[0][0]                    \n",
      "                                                                 dense_2[1][0]                    \n",
      "__________________________________________________________________________________________________\n",
      "dense_6 (Dense)                 (None, 37)           2405        dense_4[0][0]                    \n",
      "__________________________________________________________________________________________________\n",
      "dense_7 (Dense)                 (None, 108)          7020        dense_5[0][0]                    \n",
      "__________________________________________________________________________________________________\n",
      "add (Add)                       (None, 1)            0           dot[0][0]                        \n",
      "                                                                 dot_1[0][0]                      \n",
      "                                                                 dot_2[0][0]                      \n",
      "==================================================================================================\n",
      "Total params: 6,630,985\n",
      "Trainable params: 6,630,985\n",
      "Non-trainable params: 0\n",
      "__________________________________________________________________________________________________\n"
     ]
    }
   ],
   "source": [
    "model.summary()"
   ]
  }
 ],
 "metadata": {
  "kernelspec": {
   "display_name": "Python 3",
   "language": "python",
   "name": "python3"
  },
  "language_info": {
   "codemirror_mode": {
    "name": "ipython",
    "version": 3
   },
   "file_extension": ".py",
   "mimetype": "text/x-python",
   "name": "python",
   "nbconvert_exporter": "python",
   "pygments_lexer": "ipython3",
   "version": "3.6.9"
  }
 },
 "nbformat": 4,
 "nbformat_minor": 2
}
